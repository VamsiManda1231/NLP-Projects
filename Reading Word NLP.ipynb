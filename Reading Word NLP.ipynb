{
 "cells": [
  {
   "cell_type": "code",
   "execution_count": 1,
   "id": "f6562674",
   "metadata": {},
   "outputs": [
    {
     "name": "stdout",
     "output_type": "stream",
     "text": [
      "Collecting python-docx\n",
      "  Downloading python_docx-1.1.0-py3-none-any.whl (239 kB)\n",
      "                                              0.0/239.6 kB ? eta -:--:--\n",
      "                                              0.0/239.6 kB ? eta -:--:--\n",
      "                                              0.0/239.6 kB ? eta -:--:--\n",
      "     ----                                  30.7/239.6 kB 435.7 kB/s eta 0:00:01\n",
      "     ----                                  30.7/239.6 kB 435.7 kB/s eta 0:00:01\n",
      "     ----                                  30.7/239.6 kB 435.7 kB/s eta 0:00:01\n",
      "     ----                                  30.7/239.6 kB 435.7 kB/s eta 0:00:01\n",
      "     ---------                             61.4/239.6 kB 233.8 kB/s eta 0:00:01\n",
      "     ---------                             61.4/239.6 kB 233.8 kB/s eta 0:00:01\n",
      "     ------------                          81.9/239.6 kB 229.0 kB/s eta 0:00:01\n",
      "     ------------                          81.9/239.6 kB 229.0 kB/s eta 0:00:01\n",
      "     ------------                          81.9/239.6 kB 229.0 kB/s eta 0:00:01\n",
      "     ------------                          81.9/239.6 kB 229.0 kB/s eta 0:00:01\n",
      "     ------------                          81.9/239.6 kB 229.0 kB/s eta 0:00:01\n",
      "     ------------                          81.9/239.6 kB 229.0 kB/s eta 0:00:01\n",
      "     ------------                          81.9/239.6 kB 229.0 kB/s eta 0:00:01\n",
      "     --------------                        92.2/239.6 kB 131.1 kB/s eta 0:00:02\n",
      "     --------------                        92.2/239.6 kB 131.1 kB/s eta 0:00:02\n",
      "     ----------------                     112.6/239.6 kB 139.3 kB/s eta 0:00:01\n",
      "     ----------------                     112.6/239.6 kB 139.3 kB/s eta 0:00:01\n",
      "     ----------------                     112.6/239.6 kB 139.3 kB/s eta 0:00:01\n",
      "     ----------------                     112.6/239.6 kB 139.3 kB/s eta 0:00:01\n",
      "     ----------------                     112.6/239.6 kB 139.3 kB/s eta 0:00:01\n",
      "     ----------------                     112.6/239.6 kB 139.3 kB/s eta 0:00:01\n",
      "     ----------------                     112.6/239.6 kB 139.3 kB/s eta 0:00:01\n",
      "     ----------------                     112.6/239.6 kB 139.3 kB/s eta 0:00:01\n",
      "     ----------------                     112.6/239.6 kB 139.3 kB/s eta 0:00:01\n",
      "     ----------------                     112.6/239.6 kB 139.3 kB/s eta 0:00:01\n",
      "     ----------------                     112.6/239.6 kB 139.3 kB/s eta 0:00:01\n",
      "     ----------------                     112.6/239.6 kB 139.3 kB/s eta 0:00:01\n",
      "     ----------------                     112.6/239.6 kB 139.3 kB/s eta 0:00:01\n",
      "     ----------------                     112.6/239.6 kB 139.3 kB/s eta 0:00:01\n",
      "     ----------------                     112.6/239.6 kB 139.3 kB/s eta 0:00:01\n",
      "     ----------------                     112.6/239.6 kB 139.3 kB/s eta 0:00:01\n",
      "     ----------------                     112.6/239.6 kB 139.3 kB/s eta 0:00:01\n",
      "     ----------------                     112.6/239.6 kB 139.3 kB/s eta 0:00:01\n",
      "     -------------------------             163.8/239.6 kB 97.3 kB/s eta 0:00:01\n",
      "     -------------------------             163.8/239.6 kB 97.3 kB/s eta 0:00:01\n",
      "     -------------------------             163.8/239.6 kB 97.3 kB/s eta 0:00:01\n",
      "     -------------------------             163.8/239.6 kB 97.3 kB/s eta 0:00:01\n",
      "     -------------------------             163.8/239.6 kB 97.3 kB/s eta 0:00:01\n",
      "     -------------------------             163.8/239.6 kB 97.3 kB/s eta 0:00:01\n",
      "     -------------------------             163.8/239.6 kB 97.3 kB/s eta 0:00:01\n",
      "     ---------------------------------    225.3/239.6 kB 113.7 kB/s eta 0:00:01\n",
      "     ---------------------------------    225.3/239.6 kB 113.7 kB/s eta 0:00:01\n",
      "     ---------------------------------    225.3/239.6 kB 113.7 kB/s eta 0:00:01\n",
      "     ------------------------------------ 239.6/239.6 kB 112.9 kB/s eta 0:00:00\n",
      "Requirement already satisfied: lxml>=3.1.0 in c:\\users\\hp\\anaconda3\\lib\\site-packages (from python-docx) (4.9.2)\n",
      "Requirement already satisfied: typing-extensions in c:\\users\\hp\\anaconda3\\lib\\site-packages (from python-docx) (4.6.3)\n",
      "Installing collected packages: python-docx\n",
      "Successfully installed python-docx-1.1.0\n"
     ]
    }
   ],
   "source": [
    "! pip install python-docx"
   ]
  },
  {
   "cell_type": "code",
   "execution_count": 1,
   "id": "9888cd8b",
   "metadata": {},
   "outputs": [],
   "source": [
    "import docx\n"
   ]
  },
  {
   "cell_type": "code",
   "execution_count": 6,
   "id": "bc004a40",
   "metadata": {},
   "outputs": [],
   "source": [
    "doc = docx.Document(\"D:/my_story.docx\")\n",
    "paras = [p.text for p in doc.paragraphs if p.text] "
   ]
  },
  {
   "cell_type": "code",
   "execution_count": 7,
   "id": "2449288f",
   "metadata": {},
   "outputs": [
    {
     "data": {
      "text/plain": [
       "['An inventory control system is an essential tool used by businesses to manage their inventory levels efficiently. With an effective inventory control system, businesses can ensure that they have enough inventory to meet customer demand while minimizing the costs associated with holding excess inventory.',\n",
       " '1An inventory control system involves various procedures and tools to manage inventory levels effectively, such as forecasting demand, setting inventory levels, ordering and receiving inventory, tracking inventory, and analyzing inventory data.',\n",
       " \"The system typically includes software, hardware, and other technologies to automate and streamline inventory management processes. By implementing an inventory control system, businesses can improve their operations' efficiency, reduce the risk of stockouts or overstocks, and make informed decisions regarding inventory management.\",\n",
       " \"In short, an inventory control system plays a crucial role in managing a business's inventory levels, allowing it to operate efficiently, reduce costs, and provide excellent customer service.\"]"
      ]
     },
     "execution_count": 7,
     "metadata": {},
     "output_type": "execute_result"
    }
   ],
   "source": [
    "paras"
   ]
  },
  {
   "cell_type": "code",
   "execution_count": null,
   "id": "5f134e4b",
   "metadata": {},
   "outputs": [],
   "source": []
  }
 ],
 "metadata": {
  "kernelspec": {
   "display_name": "Python 3 (ipykernel)",
   "language": "python",
   "name": "python3"
  },
  "language_info": {
   "codemirror_mode": {
    "name": "ipython",
    "version": 3
   },
   "file_extension": ".py",
   "mimetype": "text/x-python",
   "name": "python",
   "nbconvert_exporter": "python",
   "pygments_lexer": "ipython3",
   "version": "3.11.3"
  }
 },
 "nbformat": 4,
 "nbformat_minor": 5
}
